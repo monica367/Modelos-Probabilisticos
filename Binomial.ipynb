{
  "nbformat": 4,
  "nbformat_minor": 0,
  "metadata": {
    "colab": {
      "name": "Binomial.ipynb",
      "version": "0.3.2",
      "provenance": [],
      "include_colab_link": true
    },
    "kernelspec": {
      "name": "python3",
      "display_name": "Python 3"
    }
  },
  "cells": [
    {
      "cell_type": "markdown",
      "metadata": {
        "id": "view-in-github",
        "colab_type": "text"
      },
      "source": [
        "<a href=\"https://colab.research.google.com/github/monica367/Modelos-Probabilisticos/blob/master/Binomial.ipynb\" target=\"_parent\"><img src=\"https://colab.research.google.com/assets/colab-badge.svg\" alt=\"Open In Colab\"/></a>"
      ]
    },
    {
      "cell_type": "markdown",
      "metadata": {
        "id": "n1b1nl9HVRHs",
        "colab_type": "text"
      },
      "source": [
        "**DISTRIBUIÇÃO BINOMIAL**"
      ]
    },
    {
      "cell_type": "markdown",
      "metadata": {
        "id": "_KdKGpkcQWet",
        "colab_type": "text"
      },
      "source": [
        "\n",
        "**I) Cálculo de probabilidade**\n",
        "\n",
        "\n",
        "![alt text](http://professorguru.com.br/____impro/1/imagens-distribuicoes-de-probabilidade/binomial/formula-probabilidade-binomial.PNG?etag=W%2F%221d06-591df557%22&sourceContentType=image%2Fpng&ignoreAspectRatio&resize=456%2B144)\n",
        "\n",
        "A função completa com os parâmetros k, n e p é dada por: binom.pmf(k, args, kwds) \n",
        "\n",
        "Observe que os parâmetros na ordem dada são:\n",
        "\n",
        "-k: numero de sucessos desejado\n",
        "\n",
        "-args: numero de realizações do experimento, ou seja, o “n” da fórmula\n",
        "\n",
        "-kwds: probabilidade de sucesso em uma tentativa, o “p” na fórmula.\n",
        "\n",
        "Exemplo: Um dado honesto com faces numeradas de 1 a 6 é lançado sete vezes. Determine a probabilidade de obtermos a face 4 exatamente duas vezes\n",
        "\n",
        "Neste caso, temos que k=2 (pois a face 4 deve ocorrer exatamente duas vezes), n=7 (pois o dado será lançado 7 vezes) e p=1/6 (pois é a probabilidade de ocorrer a face 4 em uma tentativa)"
      ]
    },
    {
      "cell_type": "code",
      "metadata": {
        "id": "5UFuBnHFJoZ4",
        "colab_type": "code",
        "outputId": "4766e91c-8a96-4c9e-d4e4-b2a496e8693a",
        "colab": {
          "base_uri": "https://localhost:8080/",
          "height": 34
        }
      },
      "source": [
        "from scipy.stats import binom\n",
        "binom.pmf(2,7,1/6)"
      ],
      "execution_count": 0,
      "outputs": [
        {
          "output_type": "execute_result",
          "data": {
            "text/plain": [
              "0.23442858367626898"
            ]
          },
          "metadata": {
            "tags": []
          },
          "execution_count": 1
        }
      ]
    },
    {
      "cell_type": "markdown",
      "metadata": {
        "id": "9D0x-6WcR6-I",
        "colab_type": "text"
      },
      "source": [
        "**II) Construção da distribuição e do gráfico**\n",
        "\n",
        "Exemplo: Suponha que foi constatado que a probabilidade de defeito de uma peça de metal produzida pela empresa X é de 0,2. Um lote com dez peças dessa empresa foi selecionado ao acaso. Seja X o número de peças com defeito no lote.\n",
        "\n",
        "Considerando que temos um problema binomial com n=10 e p=0,2, faça a distribuição com todas as probabilidades de X, ou seja,  com k variando de 0 a 10.\n"
      ]
    },
    {
      "cell_type": "code",
      "metadata": {
        "id": "sQFxq_F6TLmM",
        "colab_type": "code",
        "outputId": "5971378f-fbd6-4114-ebc3-767cbc1c8911",
        "colab": {
          "base_uri": "https://localhost:8080/",
          "height": 69
        }
      },
      "source": [
        "from scipy.stats import binom\n",
        "\n",
        "n = 10\n",
        "\n",
        "p = 0.2\n",
        "\n",
        "x = range(n+1)\n",
        "\n",
        "p_x = binom.pmf(x,n,p) \n",
        " \n",
        "p_x"
      ],
      "execution_count": 0,
      "outputs": [
        {
          "output_type": "execute_result",
          "data": {
            "text/plain": [
              "array([1.07374182e-01, 2.68435456e-01, 3.01989888e-01, 2.01326592e-01,\n",
              "       8.80803840e-02, 2.64241152e-02, 5.50502400e-03, 7.86432000e-04,\n",
              "       7.37280000e-05, 4.09600000e-06, 1.02400000e-07])"
            ]
          },
          "metadata": {
            "tags": []
          },
          "execution_count": 27
        }
      ]
    },
    {
      "cell_type": "markdown",
      "metadata": {
        "id": "tAxYr3vLTu_r",
        "colab_type": "text"
      },
      "source": [
        "Faça um gráfico dessa distribuição\n",
        "\n"
      ]
    },
    {
      "cell_type": "code",
      "metadata": {
        "id": "KYg5vg99TzGU",
        "colab_type": "code",
        "outputId": "038fd459-f6e2-4f4a-9873-94e8d65f555e",
        "colab": {
          "base_uri": "https://localhost:8080/",
          "height": 312
        }
      },
      "source": [
        "import matplotlib.pyplot as plt\n",
        "\n",
        "plt.xlabel('x')\n",
        "plt.ylabel('p_x')\n",
        "\n",
        "for a,b in zip(x, p_x):\n",
        "    plt.text(a-0.25, b-0.02, str(round(b,4)), color='black')\n",
        "\n",
        "    plt.title('Distribuição Binomial - Peças com defeito')\n",
        "plt.bar(x,p_x,color = (0.3,0.1,0.4,0.6))"
      ],
      "execution_count": 0,
      "outputs": [
        {
          "output_type": "execute_result",
          "data": {
            "text/plain": [
              "<BarContainer object of 11 artists>"
            ]
          },
          "metadata": {
            "tags": []
          },
          "execution_count": 19
        },
        {
          "output_type": "display_data",
          "data": {
            "image/png": "[encoded data removed]",
            "text/plain": [
              "<Figure size 432x288 with 1 Axes>"
            ]
          },
          "metadata": {
            "tags": []
          }
        }
      ]
    },
    {
      "cell_type": "markdown",
      "metadata": {
        "id": "DXrL00knV7Ye",
        "colab_type": "text"
      },
      "source": [
        "**III) Cálculo de probabilidades**\n",
        "\n",
        "a) Determine a probabilidade de encontrar no máximo três peças defeituosa no lote\n"
      ]
    },
    {
      "cell_type": "markdown",
      "metadata": {
        "id": "EeMQ5siUnqT3",
        "colab_type": "text"
      },
      "source": [
        "Queremos calcular P(X<=3)=P(X=0)+P(X=1)+P(X=2)+P(X=3), sendo X o número de peças defeituosas"
      ]
    },
    {
      "cell_type": "code",
      "metadata": {
        "id": "R3At7jNFWMR0",
        "colab_type": "code",
        "outputId": "c859f0ea-463b-45ab-f867-8e6e69f1c3a7",
        "colab": {
          "base_uri": "https://localhost:8080/",
          "height": 34
        }
      },
      "source": [
        "\n",
        "binom.pmf(0,10,0.2)+binom.pmf(1,10,0.2)+ binom.pmf(2,10,0.2)+binom.pmf(3,10,0.2)\n"
      ],
      "execution_count": 0,
      "outputs": [
        {
          "output_type": "execute_result",
          "data": {
            "text/plain": [
              "0.8791261184000005"
            ]
          },
          "metadata": {
            "tags": []
          },
          "execution_count": 4
        }
      ]
    },
    {
      "cell_type": "markdown",
      "metadata": {
        "id": "2cmPvl6tWfFY",
        "colab_type": "text"
      },
      "source": [
        "Podemos obter esse resultado usando a função cumulativa binom.cdf, sendo o primeiro parâmetro o limite que se está acumulando, o segundo o número de tentativas e o terceiro a probabilidade de sucesso\n",
        "\n"
      ]
    },
    {
      "cell_type": "code",
      "metadata": {
        "id": "tWuB6xulWysb",
        "colab_type": "code",
        "outputId": "b216e852-2544-49c1-a3f9-4f17babb42c5",
        "colab": {
          "base_uri": "https://localhost:8080/",
          "height": 34
        }
      },
      "source": [
        "binom.cdf\n",
        "\n",
        "binom.cdf(3,10,0.2) "
      ],
      "execution_count": 0,
      "outputs": [
        {
          "output_type": "execute_result",
          "data": {
            "text/plain": [
              "0.8791261184000001"
            ]
          },
          "metadata": {
            "tags": []
          },
          "execution_count": 5
        }
      ]
    },
    {
      "cell_type": "markdown",
      "metadata": {
        "id": "Qt9lRA__YXnN",
        "colab_type": "text"
      },
      "source": [
        "b) determine a probabilidade de encontrar pelo menos três peças defeituosa\n",
        "\n",
        "Neste caso, queremos determinar P(X>=3)\n",
        "\n",
        "Podemos utilizar o processo complementar, ou seja, calcular:\n",
        "\n",
        "P(X>=3)=1-P(X<3), ou seja,\n",
        "P(X>=3)=1-P(X=0) - P(X=1)-P(X=2)\n"
      ]
    },
    {
      "cell_type": "code",
      "metadata": {
        "id": "BwflFeTBrsrJ",
        "colab_type": "code",
        "outputId": "68e8d8aa-5e5e-4dac-a62f-8844beb69314",
        "colab": {
          "base_uri": "https://localhost:8080/",
          "height": 34
        }
      },
      "source": [
        "1-binom.pmf(0,10,0.2)-binom.pmf(1,10,0.2)-binom.pmf(2,10,0.2)"
      ],
      "execution_count": 0,
      "outputs": [
        {
          "output_type": "execute_result",
          "data": {
            "text/plain": [
              "0.32220047359999976"
            ]
          },
          "metadata": {
            "tags": []
          },
          "execution_count": 6
        }
      ]
    },
    {
      "cell_type": "markdown",
      "metadata": {
        "id": "W-mVHPA5sEy8",
        "colab_type": "text"
      },
      "source": [
        "ou utilizando o processo complementar com a função cumulativa binom.cdf:"
      ]
    },
    {
      "cell_type": "code",
      "metadata": {
        "id": "nykWDX9yYjWz",
        "colab_type": "code",
        "outputId": "e3be954c-2ab7-4d68-cb94-eee80abd62e7",
        "colab": {
          "base_uri": "https://localhost:8080/",
          "height": 34
        }
      },
      "source": [
        "1-binom.cdf(2,10,0.2)"
      ],
      "execution_count": 0,
      "outputs": [
        {
          "output_type": "execute_result",
          "data": {
            "text/plain": [
              "0.3222004735999999"
            ]
          },
          "metadata": {
            "tags": []
          },
          "execution_count": 26
        }
      ]
    },
    {
      "cell_type": "markdown",
      "metadata": {
        "id": "QuPsywobxvaa",
        "colab_type": "text"
      },
      "source": [
        "*Obs: Note que neste caso deve-se acumular até k=2*"
      ]
    },
    {
      "cell_type": "markdown",
      "metadata": {
        "id": "izUJsY3nmCY0",
        "colab_type": "text"
      },
      "source": [
        "**IV) Uso de programas para calcular probabilidades** \n",
        "\n",
        "a) Vamos usar um programa para calcular qualquer probabilidade binomial do tipo P(X<=k)"
      ]
    },
    {
      "cell_type": "code",
      "metadata": {
        "id": "6Qx6nIUbmNDz",
        "colab_type": "code",
        "outputId": "044da567-16c0-4a90-a798-c068d6d5bf94",
        "colab": {
          "base_uri": "https://localhost:8080/",
          "height": 86
        }
      },
      "source": [
        "# A\n",
        "from scipy.stats import binom\n",
        "\n",
        "k=int(input('k: '))\n",
        "n = int(input('n: '))\n",
        "p =float(input('p: '))\n",
        "binom.cdf(k,n,p)"
      ],
      "execution_count": 0,
      "outputs": [
        {
          "output_type": "stream",
          "text": [
            "k: 3\n",
            "n: 10\n",
            "p: 0.2\n"
          ],
          "name": "stdout"
        },
        {
          "output_type": "execute_result",
          "data": {
            "text/plain": [
              "0.8791261184000001"
            ]
          },
          "metadata": {
            "tags": []
          },
          "execution_count": 23
        }
      ]
    },
    {
      "cell_type": "markdown",
      "metadata": {
        "id": "5x2cFeDZt1Ib",
        "colab_type": "text"
      },
      "source": [
        "b) Vamos usar um programa para calcular probabilidade binomial do tipo P(X<k)"
      ]
    },
    {
      "cell_type": "code",
      "metadata": {
        "id": "pxN20eW-uLC1",
        "colab_type": "code",
        "outputId": "e3daf0e8-d04e-4262-c3ea-820359a58d36",
        "colab": {
          "base_uri": "https://localhost:8080/",
          "height": 86
        }
      },
      "source": [
        "from scipy.stats import binom\n",
        "\n",
        "k=int(input('k: '))\n",
        "n=int(input('n: '))\n",
        "p=float(input('p: '))\n",
        "binom.cdf(k-1,n,p)"
      ],
      "execution_count": 0,
      "outputs": [
        {
          "output_type": "stream",
          "text": [
            "k: 2\n",
            "n: 10\n",
            "p: 0.5\n"
          ],
          "name": "stdout"
        },
        {
          "output_type": "execute_result",
          "data": {
            "text/plain": [
              "0.010742187499999998"
            ]
          },
          "metadata": {
            "tags": []
          },
          "execution_count": 12
        }
      ]
    },
    {
      "cell_type": "markdown",
      "metadata": {
        "id": "rQTaqggqurDB",
        "colab_type": "text"
      },
      "source": [
        "c) Vamos usar um programa para calcular probabilidade binomial do tipo P(X>=k)\n"
      ]
    },
    {
      "cell_type": "code",
      "metadata": {
        "id": "HZp8JXzVvFpf",
        "colab_type": "code",
        "outputId": "5f1f4d5f-7322-473e-a5f6-fd9eb3d10256",
        "colab": {
          "base_uri": "https://localhost:8080/",
          "height": 86
        }
      },
      "source": [
        "from scipy.stats import binom\n",
        "\n",
        "k=int(input('k: '))\n",
        "n=int(input('n: '))\n",
        "p=float(input('p: '))\n",
        "1-binom.cdf(k,n,p)"
      ],
      "execution_count": 0,
      "outputs": [
        {
          "output_type": "stream",
          "text": [
            "k: 1\n",
            "n: 10\n",
            "p: 0.5\n"
          ],
          "name": "stdout"
        },
        {
          "output_type": "execute_result",
          "data": {
            "text/plain": [
              "0.9892578125"
            ]
          },
          "metadata": {
            "tags": []
          },
          "execution_count": 16
        }
      ]
    },
    {
      "cell_type": "markdown",
      "metadata": {
        "id": "9sOH_iTZwLcj",
        "colab_type": "text"
      },
      "source": [
        "d) Vamos usar um programa para calcular probabilidade binomial do tipo P(X>k)"
      ]
    },
    {
      "cell_type": "code",
      "metadata": {
        "id": "LdWfPL9FwQB5",
        "colab_type": "code",
        "outputId": "b1b314cd-336f-47e6-a49f-cc269531d30f",
        "colab": {
          "base_uri": "https://localhost:8080/",
          "height": 86
        }
      },
      "source": [
        "from scipy.stats import binom\n",
        "\n",
        "k=int(input('k: '))\n",
        "n=int(input('n: '))\n",
        "p=float(input('p: '))\n",
        "1-binom.cdf(k-1,n,p)\n",
        "         "
      ],
      "execution_count": 0,
      "outputs": [
        {
          "output_type": "stream",
          "text": [
            "k: 5\n",
            "n: 10\n",
            "p: 0.2\n"
          ],
          "name": "stdout"
        },
        {
          "output_type": "execute_result",
          "data": {
            "text/plain": [
              "0.03279349759999994"
            ]
          },
          "metadata": {
            "tags": []
          },
          "execution_count": 38
        }
      ]
    },
    {
      "cell_type": "markdown",
      "metadata": {
        "id": "bsPVuRHSccgk",
        "colab_type": "text"
      },
      "source": [
        "**V) Cálculo de média e variância**"
      ]
    },
    {
      "cell_type": "markdown",
      "metadata": {
        "id": "1HL6x_kxshRt",
        "colab_type": "text"
      },
      "source": [
        "Temos E(X)=n.p e VAR(X)=n.p.q"
      ]
    },
    {
      "cell_type": "code",
      "metadata": {
        "id": "jsAD0X7gdBMc",
        "colab_type": "code",
        "outputId": "d67beb8d-58ed-4dbe-eb8f-d899f162df63",
        "colab": {
          "base_uri": "https://localhost:8080/",
          "height": 86
        }
      },
      "source": [
        "n=int(input('n: '))\n",
        "p=float(input('p: '))\n",
        "media = n * p\n",
        "variancia = n*p*(1-p)\n",
        "print('média:', media)\n",
        "print('variância:', variancia)"
      ],
      "execution_count": 0,
      "outputs": [
        {
          "output_type": "stream",
          "text": [
            "n: 10\n",
            "p: 0.2\n",
            "média: 2.0\n",
            "variância: 1.6\n"
          ],
          "name": "stdout"
        }
      ]
    },
    {
      "cell_type": "markdown",
      "metadata": {
        "id": "TSwhU_no2qMS",
        "colab_type": "text"
      },
      "source": [
        ""
      ]
    }
  ]
}