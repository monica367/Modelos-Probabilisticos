{
  "nbformat": 4,
  "nbformat_minor": 0,
  "metadata": {
    "colab": {
      "name": "DISTRIBUIÇÃO NORMAL",
      "version": "0.3.2",
      "provenance": [],
      "include_colab_link": true
    },
    "kernelspec": {
      "name": "python3",
      "display_name": "Python 3"
    }
  },
  "cells": [
    {
      "cell_type": "markdown",
      "metadata": {
        "id": "view-in-github",
        "colab_type": "text"
      },
      "source": [
        "<a href=\"https://colab.research.google.com/github/monica367/Modelos-Probabilisticos/blob/master/Distribui%C3%A7%C3%A3o_Normal.ipynb\" target=\"_parent\"><img src=\"https://colab.research.google.com/assets/colab-badge.svg\" alt=\"Open In Colab\"/></a>"
      ]
    },
    {
      "cell_type": "markdown",
      "metadata": {
        "id": "-uQJNfGHQjnx",
        "colab_type": "text"
      },
      "source": [
        "**DISTRIBUIÇÃO NORMAL**\n",
        "\n",
        "I) Exemplos de cálculo de probabilidades\n",
        "\n",
        "Para o cálculo de probabilidades, utilizaremos dois comandos: norm.cdf ou norm.sf.\n",
        "\n",
        "O comando **norm.cdf** calcula a probabilidade acumulada, ou seja, a área da curva para valores menores que X.\n",
        "\n",
        "O comando **norm.sf** calcula a área da curva para valores maiores do que X.\n",
        "\n",
        "I) Considere uma distribuição normal com média 30 e desvio padrão 5.\n",
        "\n",
        "Calcule:\n",
        "\n",
        "a) P(X<35) "
      ]
    },
    {
      "cell_type": "code",
      "metadata": {
        "id": "VQOlFv6gJ5qC",
        "colab_type": "code",
        "outputId": "41ac2172-b109-4414-b61f-b4114a93c5c8",
        "colab": {
          "base_uri": "https://localhost:8080/",
          "height": 34
        }
      },
      "source": [
        "from scipy.stats import norm\n",
        "norm.cdf(35,30,5)"
      ],
      "execution_count": 0,
      "outputs": [
        {
          "output_type": "execute_result",
          "data": {
            "text/plain": [
              "0.8413447460685429"
            ]
          },
          "metadata": {
            "tags": []
          },
          "execution_count": 2
        }
      ]
    },
    {
      "cell_type": "markdown",
      "metadata": {
        "id": "ogi6Fjk_f7Az",
        "colab_type": "text"
      },
      "source": [
        "Obs: para calcular P(X<=35) utiliza-se o mesmo comando, uma vez que se trata de função contínua"
      ]
    },
    {
      "cell_type": "markdown",
      "metadata": {
        "id": "tDbDvR5_gqdV",
        "colab_type": "text"
      },
      "source": [
        ""
      ]
    },
    {
      "cell_type": "markdown",
      "metadata": {
        "id": "gGrArwe0gqUD",
        "colab_type": "text"
      },
      "source": [
        ""
      ]
    },
    {
      "cell_type": "markdown",
      "metadata": {
        "id": "qhcRyfcBR30n",
        "colab_type": "text"
      },
      "source": [
        "b) P(X>35) \n",
        "\n",
        "Primeiro modo:"
      ]
    },
    {
      "cell_type": "code",
      "metadata": {
        "id": "TDL4NuzmR8-E",
        "colab_type": "code",
        "outputId": "071a9f3e-ad61-43cd-9adb-9561411ced8e",
        "colab": {
          "base_uri": "https://localhost:8080/",
          "height": 34
        }
      },
      "source": [
        "1-norm.cdf(35,30,5)"
      ],
      "execution_count": 0,
      "outputs": [
        {
          "output_type": "execute_result",
          "data": {
            "text/plain": [
              "0.15865525393145707"
            ]
          },
          "metadata": {
            "tags": []
          },
          "execution_count": 3
        }
      ]
    },
    {
      "cell_type": "markdown",
      "metadata": {
        "id": "3qFMzwXzVJdD",
        "colab_type": "text"
      },
      "source": [
        "Segundo modo:"
      ]
    },
    {
      "cell_type": "code",
      "metadata": {
        "id": "bEtHVGM1VLXS",
        "colab_type": "code",
        "outputId": "cbb7882f-96d0-4c5d-ba70-c475c9b7f3fc",
        "colab": {
          "base_uri": "https://localhost:8080/",
          "height": 34
        }
      },
      "source": [
        "norm.sf(35,30,5)"
      ],
      "execution_count": 0,
      "outputs": [
        {
          "output_type": "execute_result",
          "data": {
            "text/plain": [
              "0.15865525393145707"
            ]
          },
          "metadata": {
            "tags": []
          },
          "execution_count": 5
        }
      ]
    },
    {
      "cell_type": "markdown",
      "metadata": {
        "id": "lE6WJDWBgtd2",
        "colab_type": "text"
      },
      "source": [
        "Obs: para calcular P(X>=35) utiliza-se o mesmo comando, uma vez que se trata de função contínua\n",
        "\n"
      ]
    },
    {
      "cell_type": "markdown",
      "metadata": {
        "id": "t2O5K9KISC-d",
        "colab_type": "text"
      },
      "source": [
        "c)  P(X<=28)"
      ]
    },
    {
      "cell_type": "code",
      "metadata": {
        "id": "CQlzt27qSZbM",
        "colab_type": "code",
        "outputId": "0cbd3d5a-f707-44f7-89a2-1179765583e6",
        "colab": {
          "base_uri": "https://localhost:8080/",
          "height": 34
        }
      },
      "source": [
        "norm.cdf(28,30,5)"
      ],
      "execution_count": 0,
      "outputs": [
        {
          "output_type": "execute_result",
          "data": {
            "text/plain": [
              "0.3445782583896758"
            ]
          },
          "metadata": {
            "tags": []
          },
          "execution_count": 6
        }
      ]
    },
    {
      "cell_type": "markdown",
      "metadata": {
        "id": "99cZN9emSjWP",
        "colab_type": "text"
      },
      "source": [
        "d) P(X>=28)"
      ]
    },
    {
      "cell_type": "code",
      "metadata": {
        "id": "pjolB6JKSnuf",
        "colab_type": "code",
        "outputId": "837e98e9-45e0-4f06-e4fa-62cf6aba6a7b",
        "colab": {
          "base_uri": "https://localhost:8080/",
          "height": 34
        }
      },
      "source": [
        "1-norm.cdf(28,30,5)"
      ],
      "execution_count": 0,
      "outputs": [
        {
          "output_type": "execute_result",
          "data": {
            "text/plain": [
              "0.6554217416103242"
            ]
          },
          "metadata": {
            "tags": []
          },
          "execution_count": 7
        }
      ]
    },
    {
      "cell_type": "markdown",
      "metadata": {
        "id": "ZqVX6JxmVhIy",
        "colab_type": "text"
      },
      "source": [
        "ou"
      ]
    },
    {
      "cell_type": "code",
      "metadata": {
        "id": "H9dvmdsSViAb",
        "colab_type": "code",
        "outputId": "dd5cf8d3-83c4-40f3-df7e-a7f11086ab76",
        "colab": {
          "base_uri": "https://localhost:8080/",
          "height": 34
        }
      },
      "source": [
        "from scipy.stats import norm\n",
        "norm.sf(28,30,5)"
      ],
      "execution_count": 0,
      "outputs": [
        {
          "output_type": "execute_result",
          "data": {
            "text/plain": [
              "0.6554217416103242"
            ]
          },
          "metadata": {
            "tags": []
          },
          "execution_count": 21
        }
      ]
    },
    {
      "cell_type": "markdown",
      "metadata": {
        "id": "HPg7bsq5S4FB",
        "colab_type": "text"
      },
      "source": [
        "e) P(28<X<35) "
      ]
    },
    {
      "cell_type": "code",
      "metadata": {
        "id": "GrZ_xco0TAH6",
        "colab_type": "code",
        "outputId": "a299da73-2523-465a-b2d4-63e7ffdb542a",
        "colab": {
          "base_uri": "https://localhost:8080/",
          "height": 34
        }
      },
      "source": [
        "norm.cdf(35,30,5) - norm.cdf(28,30,5)"
      ],
      "execution_count": 0,
      "outputs": [
        {
          "output_type": "execute_result",
          "data": {
            "text/plain": [
              "0.4967664876788671"
            ]
          },
          "metadata": {
            "tags": []
          },
          "execution_count": 8
        }
      ]
    },
    {
      "cell_type": "markdown",
      "metadata": {
        "id": "jjMDX-WyWErH",
        "colab_type": "text"
      },
      "source": [
        "f) P(X<28)+P(X>35)"
      ]
    },
    {
      "cell_type": "code",
      "metadata": {
        "id": "bSWCYUHwWMWO",
        "colab_type": "code",
        "outputId": "c21b3419-8009-499f-eb47-5b38475a05c6",
        "colab": {
          "base_uri": "https://localhost:8080/",
          "height": 34
        }
      },
      "source": [
        "norm.cdf(28,30,5)+ 1-norm.cdf(35,30,5)"
      ],
      "execution_count": 0,
      "outputs": [
        {
          "output_type": "execute_result",
          "data": {
            "text/plain": [
              "0.5032335123211328"
            ]
          },
          "metadata": {
            "tags": []
          },
          "execution_count": 9
        }
      ]
    },
    {
      "cell_type": "markdown",
      "metadata": {
        "id": "Yg_HA8O9ZD6J",
        "colab_type": "text"
      },
      "source": [
        "\n",
        "II) Construção do gráfico da normal\n",
        "\n",
        "Construiremos os gráficos de 3 distribuições normais, sendo:\n",
        "\n",
        "a) distribuição normal com média -1 e desvio padrão 1 (cor azul)\n",
        "\n",
        "b) distribuição normal com média 0 e desvio padrão 2 (cor laranja)\n",
        "\n",
        "c) distribuição normal com média 2 e desvio padrão 3 (cor verde)\n",
        "\n"
      ]
    },
    {
      "cell_type": "code",
      "metadata": {
        "id": "lKzpLXsaYTKb",
        "colab_type": "code",
        "outputId": "6a88d84f-2d6e-4eb8-f703-9030ecf1886c",
        "colab": {
          "base_uri": "https://localhost:8080/",
          "height": 322
        }
      },
      "source": [
        "from scipy.stats import norm\n",
        "import matplotlib.pyplot as plt\n",
        "import numpy as np \n",
        "\n",
        "#initialize a normal distribution with frozen in mean=-1, std. dev.= 1\n",
        "rv = norm(loc = -1., scale = 1.0)\n",
        "rv1 = norm(loc = 0., scale = 2.0)\n",
        "rv2 = norm(loc = 2., scale = 3.0)\n",
        "\n",
        "x = np.arange(-10, 10, .1)\n",
        "\n",
        "#plot the pdfs of these normal distributions \n",
        "plt.plot(x, rv.pdf(x), x, rv1.pdf(x), x, rv2.pdf(x))"
      ],
      "execution_count": 0,
      "outputs": [
        {
          "output_type": "execute_result",
          "data": {
            "text/plain": [
              "[<matplotlib.lines.Line2D at 0x7f5562de79e8>,\n",
              " <matplotlib.lines.Line2D at 0x7f5562de7c18>,\n",
              " <matplotlib.lines.Line2D at 0x7f5562de7f60>]"
            ]
          },
          "metadata": {
            "tags": []
          },
          "execution_count": 9
        },
        {
          "output_type": "display_data",
          "data": {
            "image/png": "[encoded data removed]",
            "text/plain": [
              "<Figure size 432x288 with 1 Axes>"
            ]
          },
          "metadata": {
            "tags": []
          }
        }
      ]
    },
    {
      "cell_type": "markdown",
      "metadata": {
        "id": "Pk-Q_27VZxdG",
        "colab_type": "text"
      },
      "source": [
        "Observe que a média é  sempre o valor de x associado ao ponto de máximo da curva e que quanto maior for o desvio-padrão, mais achatada ficará a curva."
      ]
    },
    {
      "cell_type": "markdown",
      "metadata": {
        "id": "x0fGgDk-hZga",
        "colab_type": "text"
      },
      "source": [
        "Vamos agora atribuir diferentes valores para calcular P(X>valor) ou P(X>=valor)\n",
        "\n",
        "Para isso, rode o programa e digite o valor, a média e o desvio padrão da distribuição.\n",
        "\n",
        "(Obs: dar \"enter\" após digitar cada elemento)"
      ]
    },
    {
      "cell_type": "code",
      "metadata": {
        "id": "8iw_-CP6NnQm",
        "colab_type": "code",
        "outputId": "6660554e-deec-469e-dba2-b404ace5d35b",
        "colab": {
          "base_uri": "https://localhost:8080/",
          "height": 86
        }
      },
      "source": [
        "from scipy.stats import norm\n",
        "valor = float(input('valor: '))\n",
        "media = float(input('media: '))\n",
        "desvioPadrao = float(input('desvioPadrao: '))\n",
        "\n",
        "\n",
        "norm.sf(valor,media,desvioPadrao)"
      ],
      "execution_count": 0,
      "outputs": [
        {
          "output_type": "stream",
          "text": [
            "valor: 30\n",
            "media: 40\n",
            "desvioPadrao: 5\n"
          ],
          "name": "stdout"
        },
        {
          "output_type": "execute_result",
          "data": {
            "text/plain": [
              "0.9772498680518208"
            ]
          },
          "metadata": {
            "tags": []
          },
          "execution_count": 13
        }
      ]
    },
    {
      "cell_type": "markdown",
      "metadata": {
        "id": "CyySbQbjiMYY",
        "colab_type": "text"
      },
      "source": [
        "Vamos agora atribuir diferentes valores para calcular P(X<valor) ou P(X<=valor)\n",
        "\n",
        "Para isso, rode o programa e digite o valor, a média e o desvio padrão da distribuição.\n",
        "\n",
        "(Obs: dar \"enter\" após digitar cada elemento)"
      ]
    },
    {
      "cell_type": "code",
      "metadata": {
        "id": "VcHGEPI2iRuo",
        "colab_type": "code",
        "outputId": "fe18ea65-87cb-4a91-82f9-8af9ba53c13d",
        "colab": {
          "base_uri": "https://localhost:8080/",
          "height": 86
        }
      },
      "source": [
        "from scipy.stats import norm\n",
        "valor=float(input('valor: '))\n",
        "media=float(input('media: '))\n",
        "desviopadrao=float(input('desviopadrao: ')) \n",
        "norm.cdf(valor,media,desviopadrao)"
      ],
      "execution_count": 0,
      "outputs": [
        {
          "output_type": "stream",
          "text": [
            "valor: 30\n",
            "media: 40\n",
            "desviopadrao: 5\n"
          ],
          "name": "stdout"
        },
        {
          "output_type": "execute_result",
          "data": {
            "text/plain": [
              "0.022750131948179195"
            ]
          },
          "metadata": {
            "tags": []
          },
          "execution_count": 17
        }
      ]
    },
    {
      "cell_type": "markdown",
      "metadata": {
        "id": "jrv3ACGahUPQ",
        "colab_type": "text"
      },
      "source": [
        ""
      ]
    }
  ]
}