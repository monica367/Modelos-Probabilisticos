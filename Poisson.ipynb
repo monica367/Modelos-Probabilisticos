{
  "nbformat": 4,
  "nbformat_minor": 0,
  "metadata": {
    "colab": {
      "name": "DISTRIBUIÇÃO DE POISSON",
      "version": "0.3.2",
      "provenance": [],
      "include_colab_link": true
    },
    "kernelspec": {
      "name": "python3",
      "display_name": "Python 3"
    }
  },
  "cells": [
    {
      "cell_type": "markdown",
      "metadata": {
        "id": "view-in-github",
        "colab_type": "text"
      },
      "source": [
        "<a href=\"https://colab.research.google.com/github/monica367/Modelos-Probabilisticos/blob/master/Poisson.ipynb\" target=\"_parent\"><img src=\"https://colab.research.google.com/assets/colab-badge.svg\" alt=\"Open In Colab\"/></a>"
      ]
    },
    {
      "cell_type": "markdown",
      "metadata": {
        "id": "AsrzbJZYeooO",
        "colab_type": "text"
      },
      "source": [
        "**DISTRIBUIÇÃO DE POISSON**"
      ]
    },
    {
      "cell_type": "markdown",
      "metadata": {
        "id": "Np2NXmGRerzt",
        "colab_type": "text"
      },
      "source": [
        "**I) Cálculo de probabilidades**\n",
        "\n",
        "A função  com os parametros k e  lambda é: poisson.pmf(k, mu), sendo:\n",
        "\n",
        "\n",
        "-k: numero de sucessos desejado\n",
        "\n",
        "-mu: o valor de lambda, ou seja, a média de Poisson\n",
        "\n",
        "\n",
        "Exemplo 1: O número de partículas gama emitidas por segundo por certa substância radioativa é uma variável aleatória com distribuição de Poisson.  Sabe-se que essa substância emite 5 partículas gama a cada 15 segundos. Determine a probabilidade de essa substância emitir duas partículas gama em um dado segundo.\n",
        "\n",
        "Neste caso, temos k=2 e mu(lambda)=3\n",
        " \n"
      ]
    },
    {
      "cell_type": "code",
      "metadata": {
        "id": "8T343flGf7LS",
        "colab_type": "code",
        "outputId": "ad12f871-4319-4e15-84bb-414563c36582",
        "colab": {
          "base_uri": "https://localhost:8080/",
          "height": 34
        }
      },
      "source": [
        "from scipy.stats import poisson\n",
        "poisson.pmf(2,3)"
      ],
      "execution_count": 0,
      "outputs": [
        {
          "output_type": "execute_result",
          "data": {
            "text/plain": [
              "0.22404180765538775"
            ]
          },
          "metadata": {
            "tags": []
          },
          "execution_count": 10
        }
      ]
    },
    {
      "cell_type": "markdown",
      "metadata": {
        "id": "e_8f14e9l5S4",
        "colab_type": "text"
      },
      "source": [
        "Exemplo 2)  Uma impressora a laser imprime em média 360 páginas por hora. Utilizando o modelo de Poisson, determine a probabilidade de que ela imprima no máximo 3 páginas em um minuto. \n",
        "\n",
        "Neste caso, queremos calcular P(X<=3)=P(X=0)+P(X=1)+P(X=2)+P(X=3), sendo X o número de páginas impressas e lambda igual a 6.\n",
        "\n",
        "Podemos calcular de duas formas, conforme apresentado a seguir.\n",
        "\n",
        "Primeiro modo:"
      ]
    },
    {
      "cell_type": "code",
      "metadata": {
        "id": "9TPD0oeYwbo4",
        "colab_type": "code",
        "outputId": "4f66e9ae-7b08-4d08-f50d-938fb0900e68",
        "colab": {
          "base_uri": "https://localhost:8080/",
          "height": 34
        }
      },
      "source": [
        "poisson.pmf(0,6)+poisson.pmf(1,6)+poisson.pmf(2,6)+poisson.pmf(3,6)"
      ],
      "execution_count": 0,
      "outputs": [
        {
          "output_type": "execute_result",
          "data": {
            "text/plain": [
              "0.15120388277664787"
            ]
          },
          "metadata": {
            "tags": []
          },
          "execution_count": 9
        }
      ]
    },
    {
      "cell_type": "markdown",
      "metadata": {
        "id": "GTJ2SLE1vIJt",
        "colab_type": "text"
      },
      "source": [
        "Segundo modo: \n",
        "Utilizando a função de probabilidade acumulada poisson.cdf(k, mu)"
      ]
    },
    {
      "cell_type": "code",
      "metadata": {
        "id": "oZSByh14nnL4",
        "colab_type": "code",
        "outputId": "e2d402f7-fa80-41c5-ee13-2f89af3b0c07",
        "colab": {
          "base_uri": "https://localhost:8080/",
          "height": 34
        }
      },
      "source": [
        "poisson.cdf\n",
        "\n",
        "poisson.cdf(3,6) "
      ],
      "execution_count": 0,
      "outputs": [
        {
          "output_type": "execute_result",
          "data": {
            "text/plain": [
              "0.15120388277664784"
            ]
          },
          "metadata": {
            "tags": []
          },
          "execution_count": 16
        }
      ]
    },
    {
      "cell_type": "markdown",
      "metadata": {
        "id": "VlLQVpjzojQ0",
        "colab_type": "text"
      },
      "source": [
        "Exemplo 3) Uma impressora a laser imprime em média 360 páginas por hora. Utilizando o modelo de Poisson, determine a probabilidade de que ela imprima pelo menos duas páginas em um minuto. \n",
        "\n",
        "Neste caso, queremos calcular :\n",
        "\n",
        "P(X>=2)=1-P(X<2)\n",
        "P(X>=2)=1-P(X=0)-P(X=1), sendo X o número de páginas impressas e lambda = 6\n",
        "\n",
        "Primeiro modo:"
      ]
    },
    {
      "cell_type": "code",
      "metadata": {
        "id": "p30PtV7Uwz5A",
        "colab_type": "code",
        "outputId": "2deddd6e-5f52-418f-f62e-1561ef41e814",
        "colab": {
          "base_uri": "https://localhost:8080/",
          "height": 34
        }
      },
      "source": [
        "1-poisson.pmf(0,6)-poisson.pmf(1,6)"
      ],
      "execution_count": 0,
      "outputs": [
        {
          "output_type": "execute_result",
          "data": {
            "text/plain": [
              "0.9826487347633355"
            ]
          },
          "metadata": {
            "tags": []
          },
          "execution_count": 11
        }
      ]
    },
    {
      "cell_type": "markdown",
      "metadata": {
        "id": "G1wF5QC3w84D",
        "colab_type": "text"
      },
      "source": [
        "Segundo modo:"
      ]
    },
    {
      "cell_type": "code",
      "metadata": {
        "id": "4Yy2010ao6dR",
        "colab_type": "code",
        "outputId": "117dde2c-a1a3-4758-d850-97c7d868093e",
        "colab": {
          "base_uri": "https://localhost:8080/",
          "height": 34
        }
      },
      "source": [
        "poisson.cdf\n",
        "1-poisson.cdf(1,6)"
      ],
      "execution_count": 0,
      "outputs": [
        {
          "output_type": "execute_result",
          "data": {
            "text/plain": [
              "0.9826487347633355"
            ]
          },
          "metadata": {
            "tags": []
          },
          "execution_count": 17
        }
      ]
    },
    {
      "cell_type": "markdown",
      "metadata": {
        "id": "8GYXNZoepKCZ",
        "colab_type": "text"
      },
      "source": [
        "Exemplo 4) Uma impressora a laser imprime em média 360 páginas por hora. Utilizando o modelo de Poisson, determine a probabilidade de que ela imprima mais do que duas páginas em um minuto. \n",
        "\n",
        "Primeiro modo:\n",
        "\n",
        "P(X>2)=1-P(X<=2)\n",
        "P(X>2)=1-P(X=0)-P(x=1)-P(X=2), sendo X o número de páginas impressas"
      ]
    },
    {
      "cell_type": "code",
      "metadata": {
        "id": "CPcTVTYUxSG8",
        "colab_type": "code",
        "outputId": "e58f2871-f698-4aff-c9e2-4c446ed2a690",
        "colab": {
          "base_uri": "https://localhost:8080/",
          "height": 34
        }
      },
      "source": [
        "1-poisson.pmf(0,6)-poisson.pmf(1,6)-poisson.pmf(2,6)"
      ],
      "execution_count": 0,
      "outputs": [
        {
          "output_type": "execute_result",
          "data": {
            "text/plain": [
              "0.938031195583341"
            ]
          },
          "metadata": {
            "tags": []
          },
          "execution_count": 12
        }
      ]
    },
    {
      "cell_type": "markdown",
      "metadata": {
        "id": "2eJcEh_7xZHB",
        "colab_type": "text"
      },
      "source": [
        "Segundo modo: usando a função cumulativa de Poisson:"
      ]
    },
    {
      "cell_type": "code",
      "metadata": {
        "id": "_R4l9KSGpRnw",
        "colab_type": "code",
        "outputId": "be6e6906-0816-490b-abce-083586fb27b9",
        "colab": {
          "base_uri": "https://localhost:8080/",
          "height": 34
        }
      },
      "source": [
        "poisson.cdf\n",
        "1-poisson.cdf(2,6)\n",
        "            "
      ],
      "execution_count": 0,
      "outputs": [
        {
          "output_type": "execute_result",
          "data": {
            "text/plain": [
              "0.938031195583341"
            ]
          },
          "metadata": {
            "tags": []
          },
          "execution_count": 18
        }
      ]
    }
  ]
}